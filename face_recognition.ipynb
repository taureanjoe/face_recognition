{
 "cells": [
  {
   "cell_type": "code",
   "execution_count": null,
   "metadata": {},
   "outputs": [],
   "source": [
    "pip install cmake "
   ]
  },
  {
   "cell_type": "code",
   "execution_count": null,
   "metadata": {},
   "outputs": [],
   "source": [
    "# pre requisite package\n",
    "\n",
    "pip install forge dlib\n"
   ]
  },
  {
   "cell_type": "code",
   "execution_count": null,
   "metadata": {},
   "outputs": [],
   "source": [
    "# installing the package\n",
    "pip install face_recognition "
   ]
  },
  {
   "cell_type": "markdown",
   "metadata": {},
   "source": [
    "![people](people.jpg)"
   ]
  },
  {
   "cell_type": "code",
   "execution_count": 1,
   "metadata": {},
   "outputs": [
    {
     "name": "stdout",
     "output_type": "stream",
     "text": [
      "[(87, 605, 149, 543), (73, 156, 135, 93), (66, 315, 129, 252), (72, 463, 124, 412)]\n"
     ]
    }
   ],
   "source": [
    "# importing library\n",
    "import face_recognition\n",
    "\n",
    "image = face_recognition.load_image_file(\"people.jpg\")\n",
    "face_locations = face_recognition.face_locations(image)\n",
    "print(face_locations)"
   ]
  },
  {
   "cell_type": "code",
   "execution_count": 2,
   "metadata": {},
   "outputs": [
    {
     "name": "stdout",
     "output_type": "stream",
     "text": [
      "There are 4 faces in the image\n"
     ]
    }
   ],
   "source": [
    "image = face_recognition.load_image_file(\"people.jpg\")\n",
    "face_locations = face_recognition.face_locations(image)\n",
    "print(\"There are {} faces in the image\".format(len(face_locations)))"
   ]
  },
  {
   "cell_type": "markdown",
   "metadata": {},
   "source": [
    "## Recognizing Faces\n",
    "![Obama](president.jpg)\n",
    "\n",
    "Obama\n"
   ]
  },
  {
   "cell_type": "code",
   "execution_count": 3,
   "metadata": {},
   "outputs": [
    {
     "name": "stdout",
     "output_type": "stream",
     "text": [
      "True\n"
     ]
    }
   ],
   "source": [
    "image_of_obama = face_recognition.load_image_file(\"president.jpg\")\n",
    "obama_face_encoding = face_recognition.face_encodings(image_of_obama)[0]\n",
    "unknown_image = face_recognition.load_image_file(\"unknown.jpg\")\n",
    "unknown_face_encoding = face_recognition.face_encodings(unknown_image)[0]\n",
    "result = face_recognition.compare_faces([obama_face_encoding], unknown_face_encoding)\n",
    "print(result[0])"
   ]
  },
  {
   "cell_type": "code",
   "execution_count": null,
   "metadata": {},
   "outputs": [],
   "source": []
  }
 ],
 "metadata": {
  "kernelspec": {
   "display_name": "Python 3.10.9 ('faceR': venv)",
   "language": "python",
   "name": "python3"
  },
  "language_info": {
   "codemirror_mode": {
    "name": "ipython",
    "version": 3
   },
   "file_extension": ".py",
   "mimetype": "text/x-python",
   "name": "python",
   "nbconvert_exporter": "python",
   "pygments_lexer": "ipython3",
   "version": "3.10.9"
  },
  "orig_nbformat": 4,
  "vscode": {
   "interpreter": {
    "hash": "ddec54f43415f6c71b6396559270e515814d7c04c6d23fbc19c828293dad1b02"
   }
  }
 },
 "nbformat": 4,
 "nbformat_minor": 2
}
